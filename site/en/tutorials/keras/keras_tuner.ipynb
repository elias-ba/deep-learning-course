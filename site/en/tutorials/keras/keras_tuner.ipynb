{
  "nbformat": 4,
  "nbformat_minor": 0,
  "metadata": {
    "accelerator": "GPU",
    "colab": {
      "name": "keras_tuner.ipynb",
      "provenance": [],
      "collapsed_sections": [
        "Tce3stUlHN0L"
      ]
    },
    "kernelspec": {
      "display_name": "Python 3",
      "name": "python3"
    }
  },
  "cells": [
    {
      "cell_type": "markdown",
      "metadata": {
        "id": "Tce3stUlHN0L"
      },
      "source": [
        "##### Copyright 2020 The TensorFlow Authors."
      ]
    },
    {
      "cell_type": "code",
      "metadata": {
        "cellView": "form",
        "id": "tuOe1ymfHZPu"
      },
      "source": [
        "#@title Licensed under the Apache License, Version 2.0 (the \"License\");\n",
        "# you may not use this file except in compliance with the License.\n",
        "# You may obtain a copy of the License at\n",
        "#\n",
        "# https://www.apache.org/licenses/LICENSE-2.0\n",
        "#\n",
        "# Unless required by applicable law or agreed to in writing, software\n",
        "# distributed under the License is distributed on an \"AS IS\" BASIS,\n",
        "# WITHOUT WARRANTIES OR CONDITIONS OF ANY KIND, either express or implied.\n",
        "# See the License for the specific language governing permissions and\n",
        "# limitations under the License."
      ],
      "execution_count": null,
      "outputs": []
    },
    {
      "cell_type": "markdown",
      "metadata": {
        "id": "qFdPvlXBOdUN"
      },
      "source": [
        "# Introduction to the Keras Tuner"
      ]
    },
    {
      "cell_type": "markdown",
      "metadata": {
        "id": "MfBg1C5NB3X0"
      },
      "source": [
        "<table class=\"tfo-notebook-buttons\" align=\"left\">\n",
        "  <td>\n",
        "    <a target=\"_blank\" href=\"https://www.tensorflow.org/tutorials/keras/keras_tuner\"><img src=\"https://www.tensorflow.org/images/tf_logo_32px.png\" />View on TensorFlow.org</a>\n",
        "  </td>\n",
        "  <td>\n",
        "    <a target=\"_blank\" href=\"https://colab.research.google.com/github/tensorflow/docs/blob/master/site/en/tutorials/keras/keras_tuner.ipynb\"><img src=\"https://www.tensorflow.org/images/colab_logo_32px.png\" />Run in Google Colab</a>\n",
        "  </td>\n",
        "  <td>\n",
        "    <a target=\"_blank\" href=\"https://github.com/tensorflow/docs/blob/master/site/en/tutorials/keras/keras_tuner.ipynb\"><img src=\"https://www.tensorflow.org/images/GitHub-Mark-32px.png\" />View source on GitHub</a>\n",
        "  </td>\n",
        "  <td>\n",
        "    <a href=\"https://storage.googleapis.com/tensorflow_docs/docs/site/en/tutorials/keras/keras_tuner.ipynb\"><img src=\"https://www.tensorflow.org/images/download_logo_32px.png\" />Download notebook</a>\n",
        "  </td>\n",
        "</table>"
      ]
    },
    {
      "cell_type": "markdown",
      "metadata": {
        "id": "xHxb-dlhMIzW"
      },
      "source": [
        "## Overview\n",
        "\n",
        "The Keras Tuner is a library that helps you pick the optimal set of hyperparameters for your TensorFlow program. The process of selecting the right set of hyperparameters for your machine learning (ML) application is called *hyperparameter tuning* or *hypertuning*.\n",
        "\n",
        "Hyperparameters are the variables that govern the training process and the topology of an ML model. These variables remain constant over the training process and directly impact the performance of your ML program. Hyperparameters are of two types:\n",
        "1. **Model hyperparameters** which influence model selection such as the number and width of hidden layers\n",
        "2. **Algorithm hyperparameters** which influence the speed and quality of the learning algorithm such as the learning rate for Stochastic Gradient Descent (SGD) and the number of nearest neighbors for a k Nearest Neighbors (KNN) classifier\n",
        "\n",
        "In this tutorial, you will use the Keras Tuner to perform hypertuning for an image classification application."
      ]
    },
    {
      "cell_type": "markdown",
      "metadata": {
        "id": "MUXex9ctTuDB"
      },
      "source": [
        "## Setup"
      ]
    },
    {
      "cell_type": "code",
      "metadata": {
        "id": "IqR2PQG4ZaZ0"
      },
      "source": [
        "import tensorflow as tf\n",
        "from tensorflow import keras"
      ],
      "execution_count": 30,
      "outputs": []
    },
    {
      "cell_type": "markdown",
      "metadata": {
        "id": "g83Lwsy-Aq2_"
      },
      "source": [
        "Install and import the Keras Tuner."
      ]
    },
    {
      "cell_type": "code",
      "metadata": {
        "id": "hpMLpbt9jcO6"
      },
      "source": [
        "!pip install -q -U keras-tuner"
      ],
      "execution_count": 31,
      "outputs": []
    },
    {
      "cell_type": "code",
      "metadata": {
        "id": "_leAIdFKAxAD"
      },
      "source": [
        "import keras_tuner as kt"
      ],
      "execution_count": 32,
      "outputs": []
    },
    {
      "cell_type": "markdown",
      "metadata": {
        "id": "ReV_UXOgCZvx"
      },
      "source": [
        "## Download and prepare the dataset\n",
        "\n",
        "In this tutorial, you will use the Keras Tuner to find the best hyperparameters for a machine learning model that classifies images of clothing from the [Fashion MNIST dataset](https://github.com/zalandoresearch/fashion-mnist)."
      ]
    },
    {
      "cell_type": "markdown",
      "metadata": {
        "id": "HljH_ENLEdHa"
      },
      "source": [
        "Load the data."
      ]
    },
    {
      "cell_type": "code",
      "metadata": {
        "id": "OHlHs9Wj_PUM"
      },
      "source": [
        "(img_train, label_train), (img_test, label_test) = keras.datasets.fashion_mnist.load_data()"
      ],
      "execution_count": 33,
      "outputs": []
    },
    {
      "cell_type": "code",
      "metadata": {
        "id": "bLVhXs3xrUD0"
      },
      "source": [
        "# Normalize pixel values between 0 and 1\n",
        "img_train = img_train.astype('float32') / 255.0\n",
        "img_test = img_test.astype('float32') / 255.0"
      ],
      "execution_count": 34,
      "outputs": []
    },
    {
      "cell_type": "markdown",
      "metadata": {
        "id": "K5YEL2H2Ax3e"
      },
      "source": [
        "## Define the model\n",
        "\n",
        "When you build a model for hypertuning, you also define the hyperparameter search space in addition to the model architecture. The model you set up for hypertuning is called a *hypermodel*.\n",
        "\n",
        "You can define a hypermodel through two approaches:\n",
        "\n",
        "* By using a model builder function\n",
        "* By subclassing the `HyperModel` class of the Keras Tuner API\n",
        "\n",
        "You can also use two pre-defined `HyperModel` classes - [HyperXception](https://keras-team.github.io/keras-tuner/documentation/hypermodels/#hyperxception-class) and [HyperResNet](https://keras-team.github.io/keras-tuner/documentation/hypermodels/#hyperresnet-class) for computer vision applications.\n",
        "\n",
        "In this tutorial, you use a model builder function to define the image classification model. The model builder function returns a compiled model and uses hyperparameters you define inline to hypertune the model."
      ]
    },
    {
      "cell_type": "code",
      "metadata": {
        "id": "ZQKodC-jtsva"
      },
      "source": [
        "def model_builder(hp):\n",
        "  model = keras.Sequential()\n",
        "  \n",
        "  model.add(keras.layers.Flatten(input_shape=(28, 28))) # couche d'entree qui ne sert qu'a reshaper\n",
        "\n",
        "\n",
        "  hp_units_1 = hp.Int('units_1', min_value=100, max_value=300, step=1)\n",
        "  hp_activation_1 = hp.Choice('activation_1', values=['relu', 'sigmoid', 'tanh'])\n",
        "  model.add(keras.layers.Dense(units=hp_units_1, activation=hp_activation_1))\n",
        "\n",
        "  hp_units_2 = hp.Int('units_2', min_value=150, max_value=450, step=2)\n",
        "  hp_activation_2 = hp.Choice('activation_2', values=['relu', 'sigmoid', 'tanh'])\n",
        "  model.add(keras.layers.Dense(units=hp_units_2, activation=hp_activation_2))\n",
        "\n",
        "\n",
        "  \n",
        "  model.add(keras.layers.Dense(10, activation='softmax')) # couche de sortie\n",
        "\n",
        "\n",
        "  model.compile(optimizer='adam',\n",
        "                loss=keras.losses.SparseCategoricalCrossentropy(from_logits=True),\n",
        "                metrics=['accuracy'])\n",
        "\n",
        "  return model"
      ],
      "execution_count": 41,
      "outputs": []
    },
    {
      "cell_type": "markdown",
      "metadata": {
        "id": "0J1VYw4q3x0b"
      },
      "source": [
        "## Instantiate the tuner and perform hypertuning\n",
        "\n",
        "Instantiate the tuner to perform the hypertuning. The Keras Tuner has four tuners available - `RandomSearch`, `Hyperband`, `BayesianOptimization`, and `Sklearn`. In this tutorial, you use the [Hyperband](https://arxiv.org/pdf/1603.06560.pdf) tuner.\n",
        "\n",
        "To instantiate the Hyperband tuner, you must specify the hypermodel, the `objective` to optimize and the maximum number of epochs to train (`max_epochs`)."
      ]
    },
    {
      "cell_type": "code",
      "metadata": {
        "id": "oichQFly6Y46"
      },
      "source": [
        "tuner = kt.Hyperband(model_builder,\n",
        "                     objective='val_accuracy',\n",
        "                     max_epochs=10,\n",
        "                     factor=3,\n",
        "                     directory='my_dir',\n",
        "                     project_name='intro_to_kt')"
      ],
      "execution_count": 42,
      "outputs": []
    },
    {
      "cell_type": "markdown",
      "metadata": {
        "id": "VaIhhdKf9VtI"
      },
      "source": [
        "The Hyperband tuning algorithm uses adaptive resource allocation and early-stopping to quickly converge on a high-performing model. This is done using a sports championship style bracket. The algorithm trains a large number of models for a few epochs and carries forward only the top-performing half of models to the next round. Hyperband determines the number of models to train in a bracket by computing 1 + log<sub>`factor`</sub>(`max_epochs`) and rounding it up to the nearest integer."
      ]
    },
    {
      "cell_type": "markdown",
      "metadata": {
        "id": "cwhBdXx0Ekj8"
      },
      "source": [
        "Create a callback to stop training early after reaching a certain value for the validation loss."
      ]
    },
    {
      "cell_type": "code",
      "metadata": {
        "id": "WT9IkS9NEjLc"
      },
      "source": [
        "stop_early = tf.keras.callbacks.EarlyStopping(monitor='val_loss', patience=5) # a expliquer prochain cours"
      ],
      "execution_count": 43,
      "outputs": []
    },
    {
      "cell_type": "markdown",
      "metadata": {
        "id": "UKghEo15Tduy"
      },
      "source": [
        "Run the hyperparameter search. The arguments for the search method are the same as those used for `tf.keras.model.fit` in addition to the callback above."
      ]
    },
    {
      "cell_type": "code",
      "metadata": {
        "id": "dSBQcTHF9cKt",
        "outputId": "60881be8-9a2a-44a2-c7c8-30cdb50c0f70",
        "colab": {
          "base_uri": "https://localhost:8080/"
        }
      },
      "source": [
        "tuner.search(img_train, label_train, epochs=25, validation_split=0.2, callbacks=[stop_early])\n",
        "\n",
        "# Get the optimal hyperparameters\n",
        "best_hps=tuner.get_best_hyperparameters(num_trials=1)\n",
        "\n",
        "\n",
        "print(f\"best unit layer 1 = {best_hps[0].get('units_1')}\")\n",
        "print(f\"best unit layer 2 = {best_hps[0].get('units_1')}\")\n",
        "print(f\"best activation layer 1 = {best_hps[0].get('activation_1')}\")\n",
        "print(f\"best activation layer 2 = {best_hps[0].get('activation_2')}\")"
      ],
      "execution_count": null,
      "outputs": [
        {
          "output_type": "stream",
          "name": "stdout",
          "text": [
            "Trial 29 Complete [00h 01m 22s]\n",
            "val_accuracy: 0.8893333077430725\n",
            "\n",
            "Best val_accuracy So Far: 0.8912500143051147\n",
            "Total elapsed time: 00h 10m 55s\n",
            "\n",
            "Search: Running Trial #30\n",
            "\n",
            "Hyperparameter    |Value             |Best Value So Far \n",
            "units_1           |211               |194               \n",
            "activation_1      |sigmoid           |sigmoid           \n",
            "units_2           |210               |214               \n",
            "activation_2      |relu              |tanh              \n",
            "tuner/epochs      |10                |10                \n",
            "tuner/initial_e...|0                 |0                 \n",
            "tuner/bracket     |0                 |0                 \n",
            "tuner/round       |0                 |0                 \n",
            "\n",
            "Epoch 1/10\n",
            "1500/1500 [==============================] - 6s 3ms/step - loss: 0.5307 - accuracy: 0.8081 - val_loss: 0.4204 - val_accuracy: 0.8441\n",
            "Epoch 2/10\n",
            "1500/1500 [==============================] - 4s 3ms/step - loss: 0.3868 - accuracy: 0.8583 - val_loss: 0.3817 - val_accuracy: 0.8651\n",
            "Epoch 3/10\n",
            "1500/1500 [==============================] - 4s 3ms/step - loss: 0.3452 - accuracy: 0.8726 - val_loss: 0.3499 - val_accuracy: 0.8711\n",
            "Epoch 4/10\n",
            "1500/1500 [==============================] - 4s 3ms/step - loss: 0.3162 - accuracy: 0.8835 - val_loss: 0.3328 - val_accuracy: 0.8786\n",
            "Epoch 5/10\n",
            "1500/1500 [==============================] - 4s 3ms/step - loss: 0.2944 - accuracy: 0.8903 - val_loss: 0.3406 - val_accuracy: 0.8742\n",
            "Epoch 6/10\n",
            "1500/1500 [==============================] - 4s 3ms/step - loss: 0.2772 - accuracy: 0.8960 - val_loss: 0.3291 - val_accuracy: 0.8838\n",
            "Epoch 7/10\n",
            "1500/1500 [==============================] - 4s 3ms/step - loss: 0.2602 - accuracy: 0.9015 - val_loss: 0.3174 - val_accuracy: 0.8855\n",
            "Epoch 8/10\n",
            " 162/1500 [==>...........................] - ETA: 3s - loss: 0.2377 - accuracy: 0.9099"
          ]
        }
      ]
    },
    {
      "cell_type": "markdown",
      "metadata": {
        "id": "Lak_ylf88xBv"
      },
      "source": [
        "## Train the model\n",
        "\n",
        "Find the optimal number of epochs to train the model with the hyperparameters obtained from the search."
      ]
    },
    {
      "cell_type": "code",
      "metadata": {
        "id": "McO82AXOuxXh",
        "outputId": "3db6345e-de67-402a-de73-d860684feb5b",
        "colab": {
          "base_uri": "https://localhost:8080/"
        }
      },
      "source": [
        "# Build the model with the optimal hyperparameters and train it on the data for 50 epochs\n",
        "model = tuner.hypermodel.build(best_hps[0])\n",
        "history = model.fit(img_train, label_train, epochs=50, validation_split=0.2)\n",
        "\n",
        "val_acc_per_epoch = history.history['val_accuracy']\n",
        "best_epoch = val_acc_per_epoch.index(max(val_acc_per_epoch)) + 1\n",
        "print('Best epoch: %d' % (best_epoch,))"
      ],
      "execution_count": 19,
      "outputs": [
        {
          "output_type": "stream",
          "name": "stdout",
          "text": [
            "Epoch 1/50\n",
            "1500/1500 [==============================] - 4s 3ms/step - loss: 0.5149 - accuracy: 0.8191 - val_loss: 0.4025 - val_accuracy: 0.8560\n",
            "Epoch 2/50\n",
            "1500/1500 [==============================] - 4s 3ms/step - loss: 0.3839 - accuracy: 0.8611 - val_loss: 0.3804 - val_accuracy: 0.8649\n",
            "Epoch 3/50\n",
            "1500/1500 [==============================] - 4s 3ms/step - loss: 0.3438 - accuracy: 0.8741 - val_loss: 0.3481 - val_accuracy: 0.8762\n",
            "Epoch 4/50\n",
            "1500/1500 [==============================] - 4s 2ms/step - loss: 0.3195 - accuracy: 0.8824 - val_loss: 0.3558 - val_accuracy: 0.8695\n",
            "Epoch 5/50\n",
            "1500/1500 [==============================] - 4s 2ms/step - loss: 0.3004 - accuracy: 0.8890 - val_loss: 0.3362 - val_accuracy: 0.8776\n",
            "Epoch 6/50\n",
            "1500/1500 [==============================] - 4s 3ms/step - loss: 0.2830 - accuracy: 0.8951 - val_loss: 0.3500 - val_accuracy: 0.8759\n",
            "Epoch 7/50\n",
            "1500/1500 [==============================] - 4s 2ms/step - loss: 0.2681 - accuracy: 0.9019 - val_loss: 0.3283 - val_accuracy: 0.8818\n",
            "Epoch 8/50\n",
            "1500/1500 [==============================] - 4s 2ms/step - loss: 0.2553 - accuracy: 0.9054 - val_loss: 0.3282 - val_accuracy: 0.8859\n",
            "Epoch 9/50\n",
            "1500/1500 [==============================] - 4s 3ms/step - loss: 0.2457 - accuracy: 0.9086 - val_loss: 0.3356 - val_accuracy: 0.8828\n",
            "Epoch 10/50\n",
            "1500/1500 [==============================] - 4s 2ms/step - loss: 0.2359 - accuracy: 0.9121 - val_loss: 0.3184 - val_accuracy: 0.8898\n",
            "Epoch 11/50\n",
            "1500/1500 [==============================] - 4s 3ms/step - loss: 0.2249 - accuracy: 0.9162 - val_loss: 0.3256 - val_accuracy: 0.8869\n",
            "Epoch 12/50\n",
            "1500/1500 [==============================] - 4s 2ms/step - loss: 0.2194 - accuracy: 0.9176 - val_loss: 0.3257 - val_accuracy: 0.8885\n",
            "Epoch 13/50\n",
            "1500/1500 [==============================] - 4s 2ms/step - loss: 0.2074 - accuracy: 0.9215 - val_loss: 0.3197 - val_accuracy: 0.8888\n",
            "Epoch 14/50\n",
            "1500/1500 [==============================] - 4s 2ms/step - loss: 0.2036 - accuracy: 0.9238 - val_loss: 0.3202 - val_accuracy: 0.8912\n",
            "Epoch 15/50\n",
            "1500/1500 [==============================] - 4s 2ms/step - loss: 0.1949 - accuracy: 0.9271 - val_loss: 0.3384 - val_accuracy: 0.8884\n",
            "Epoch 16/50\n",
            "1500/1500 [==============================] - 4s 2ms/step - loss: 0.1906 - accuracy: 0.9285 - val_loss: 0.3453 - val_accuracy: 0.8856\n",
            "Epoch 17/50\n",
            "1500/1500 [==============================] - 4s 2ms/step - loss: 0.1856 - accuracy: 0.9299 - val_loss: 0.3296 - val_accuracy: 0.8917\n",
            "Epoch 18/50\n",
            "1500/1500 [==============================] - 4s 3ms/step - loss: 0.1803 - accuracy: 0.9322 - val_loss: 0.3347 - val_accuracy: 0.8913\n",
            "Epoch 19/50\n",
            "1500/1500 [==============================] - 4s 3ms/step - loss: 0.1763 - accuracy: 0.9334 - val_loss: 0.3573 - val_accuracy: 0.8909\n",
            "Epoch 20/50\n",
            "1500/1500 [==============================] - 4s 2ms/step - loss: 0.1679 - accuracy: 0.9365 - val_loss: 0.3370 - val_accuracy: 0.8918\n",
            "Epoch 21/50\n",
            "1500/1500 [==============================] - 4s 2ms/step - loss: 0.1663 - accuracy: 0.9381 - val_loss: 0.3515 - val_accuracy: 0.8929\n",
            "Epoch 22/50\n",
            "1500/1500 [==============================] - 4s 3ms/step - loss: 0.1592 - accuracy: 0.9410 - val_loss: 0.3714 - val_accuracy: 0.8877\n",
            "Epoch 23/50\n",
            "1500/1500 [==============================] - 4s 2ms/step - loss: 0.1549 - accuracy: 0.9420 - val_loss: 0.3571 - val_accuracy: 0.8932\n",
            "Epoch 24/50\n",
            "1500/1500 [==============================] - 4s 2ms/step - loss: 0.1510 - accuracy: 0.9431 - val_loss: 0.3616 - val_accuracy: 0.8906\n",
            "Epoch 25/50\n",
            "1500/1500 [==============================] - 4s 3ms/step - loss: 0.1467 - accuracy: 0.9457 - val_loss: 0.3783 - val_accuracy: 0.8881\n",
            "Epoch 26/50\n",
            "1500/1500 [==============================] - 4s 2ms/step - loss: 0.1434 - accuracy: 0.9455 - val_loss: 0.3768 - val_accuracy: 0.8917\n",
            "Epoch 27/50\n",
            "1500/1500 [==============================] - 4s 2ms/step - loss: 0.1415 - accuracy: 0.9467 - val_loss: 0.3741 - val_accuracy: 0.8896\n",
            "Epoch 28/50\n",
            "1500/1500 [==============================] - 4s 2ms/step - loss: 0.1375 - accuracy: 0.9490 - val_loss: 0.3649 - val_accuracy: 0.8917\n",
            "Epoch 29/50\n",
            "1500/1500 [==============================] - 4s 3ms/step - loss: 0.1340 - accuracy: 0.9493 - val_loss: 0.3996 - val_accuracy: 0.8923\n",
            "Epoch 30/50\n",
            "1500/1500 [==============================] - 4s 2ms/step - loss: 0.1311 - accuracy: 0.9493 - val_loss: 0.3885 - val_accuracy: 0.8921\n",
            "Epoch 31/50\n",
            "1500/1500 [==============================] - 4s 3ms/step - loss: 0.1277 - accuracy: 0.9518 - val_loss: 0.3834 - val_accuracy: 0.8929\n",
            "Epoch 32/50\n",
            "1500/1500 [==============================] - 4s 3ms/step - loss: 0.1230 - accuracy: 0.9534 - val_loss: 0.3990 - val_accuracy: 0.8930\n",
            "Epoch 33/50\n",
            "1500/1500 [==============================] - 4s 3ms/step - loss: 0.1236 - accuracy: 0.9526 - val_loss: 0.4452 - val_accuracy: 0.8865\n",
            "Epoch 34/50\n",
            "1500/1500 [==============================] - 4s 2ms/step - loss: 0.1188 - accuracy: 0.9561 - val_loss: 0.4067 - val_accuracy: 0.8938\n",
            "Epoch 35/50\n",
            "1500/1500 [==============================] - 4s 3ms/step - loss: 0.1164 - accuracy: 0.9564 - val_loss: 0.4154 - val_accuracy: 0.8936\n",
            "Epoch 36/50\n",
            "1500/1500 [==============================] - 4s 3ms/step - loss: 0.1140 - accuracy: 0.9575 - val_loss: 0.4474 - val_accuracy: 0.8900\n",
            "Epoch 37/50\n",
            "1500/1500 [==============================] - 4s 2ms/step - loss: 0.1109 - accuracy: 0.9592 - val_loss: 0.4397 - val_accuracy: 0.8878\n",
            "Epoch 38/50\n",
            "1500/1500 [==============================] - 4s 2ms/step - loss: 0.1119 - accuracy: 0.9585 - val_loss: 0.4374 - val_accuracy: 0.8915\n",
            "Epoch 39/50\n",
            "1500/1500 [==============================] - 4s 2ms/step - loss: 0.1072 - accuracy: 0.9598 - val_loss: 0.4627 - val_accuracy: 0.8903\n",
            "Epoch 40/50\n",
            "1500/1500 [==============================] - 4s 2ms/step - loss: 0.1040 - accuracy: 0.9611 - val_loss: 0.4473 - val_accuracy: 0.8942\n",
            "Epoch 41/50\n",
            "1500/1500 [==============================] - 4s 3ms/step - loss: 0.1020 - accuracy: 0.9623 - val_loss: 0.4600 - val_accuracy: 0.8902\n",
            "Epoch 42/50\n",
            "1500/1500 [==============================] - 4s 2ms/step - loss: 0.0994 - accuracy: 0.9626 - val_loss: 0.4755 - val_accuracy: 0.8928\n",
            "Epoch 43/50\n",
            "1500/1500 [==============================] - 4s 2ms/step - loss: 0.0991 - accuracy: 0.9637 - val_loss: 0.4494 - val_accuracy: 0.8921\n",
            "Epoch 44/50\n",
            "1500/1500 [==============================] - 4s 3ms/step - loss: 0.0953 - accuracy: 0.9648 - val_loss: 0.4759 - val_accuracy: 0.8923\n",
            "Epoch 45/50\n",
            "1500/1500 [==============================] - 4s 3ms/step - loss: 0.0976 - accuracy: 0.9629 - val_loss: 0.5025 - val_accuracy: 0.8841\n",
            "Epoch 46/50\n",
            "1500/1500 [==============================] - 4s 3ms/step - loss: 0.0939 - accuracy: 0.9645 - val_loss: 0.4906 - val_accuracy: 0.8873\n",
            "Epoch 47/50\n",
            "1500/1500 [==============================] - 4s 3ms/step - loss: 0.0884 - accuracy: 0.9668 - val_loss: 0.4720 - val_accuracy: 0.8934\n",
            "Epoch 48/50\n",
            "1500/1500 [==============================] - 4s 2ms/step - loss: 0.0902 - accuracy: 0.9663 - val_loss: 0.5308 - val_accuracy: 0.8842\n",
            "Epoch 49/50\n",
            "1500/1500 [==============================] - 4s 2ms/step - loss: 0.0881 - accuracy: 0.9673 - val_loss: 0.4930 - val_accuracy: 0.8892\n",
            "Epoch 50/50\n",
            "1500/1500 [==============================] - 4s 3ms/step - loss: 0.0878 - accuracy: 0.9678 - val_loss: 0.5123 - val_accuracy: 0.8921\n",
            "Best epoch: 40\n"
          ]
        }
      ]
    },
    {
      "cell_type": "code",
      "metadata": {
        "id": "Ehr6It8DlI_6",
        "outputId": "8bf1eb41-2709-4b85-c60b-d936142313f8",
        "colab": {
          "base_uri": "https://localhost:8080/",
          "height": 265
        }
      },
      "source": [
        "import matplotlib.pyplot as plt\n",
        "\n",
        "plt.plot(history.history['val_accuracy'], c='blue')\n",
        "plt.plot(history.history['accuracy'], c='red')\n",
        "plt.show()"
      ],
      "execution_count": 29,
      "outputs": [
        {
          "output_type": "display_data",
          "data": {
            "image/png": "[encoded data removed]",
            "text/plain": [
              "<Figure size 432x288 with 1 Axes>"
            ]
          },
          "metadata": {
            "needs_background": "light"
          }
        }
      ]
    },
    {
      "cell_type": "markdown",
      "metadata": {
        "id": "uOTSirSTI3Gp"
      },
      "source": [
        "Re-instantiate the hypermodel and train it with the optimal number of epochs from above."
      ]
    },
    {
      "cell_type": "code",
      "metadata": {
        "id": "NoiPUEHmMhCe",
        "outputId": "bc9a7c54-614a-4f69-8ce4-b1d877ca66fd",
        "colab": {
          "base_uri": "https://localhost:8080/"
        }
      },
      "source": [
        "hypermodel = tuner.hypermodel.build(best_hps[0])\n",
        "\n",
        "# Retrain the model\n",
        "hypermodel.fit(img_train, label_train, epochs=best_epoch, validation_split=0.2)"
      ],
      "execution_count": 27,
      "outputs": [
        {
          "output_type": "stream",
          "name": "stdout",
          "text": [
            "Epoch 1/40\n",
            "1500/1500 [==============================] - 4s 3ms/step - loss: 0.5082 - accuracy: 0.8199 - val_loss: 0.4003 - val_accuracy: 0.8557\n",
            "Epoch 2/40\n",
            "1500/1500 [==============================] - 4s 3ms/step - loss: 0.3815 - accuracy: 0.8628 - val_loss: 0.3938 - val_accuracy: 0.8544\n",
            "Epoch 3/40\n",
            "1500/1500 [==============================] - 4s 3ms/step - loss: 0.3412 - accuracy: 0.8759 - val_loss: 0.3394 - val_accuracy: 0.8804\n",
            "Epoch 4/40\n",
            "1500/1500 [==============================] - 4s 2ms/step - loss: 0.3160 - accuracy: 0.8852 - val_loss: 0.3508 - val_accuracy: 0.8728\n",
            "Epoch 5/40\n",
            "1500/1500 [==============================] - 4s 2ms/step - loss: 0.2983 - accuracy: 0.8903 - val_loss: 0.3337 - val_accuracy: 0.8793\n",
            "Epoch 6/40\n",
            "1500/1500 [==============================] - 4s 3ms/step - loss: 0.2819 - accuracy: 0.8962 - val_loss: 0.3532 - val_accuracy: 0.8717\n",
            "Epoch 7/40\n",
            "1500/1500 [==============================] - 4s 2ms/step - loss: 0.2696 - accuracy: 0.8985 - val_loss: 0.3254 - val_accuracy: 0.8813\n",
            "Epoch 8/40\n",
            "1500/1500 [==============================] - 4s 3ms/step - loss: 0.2566 - accuracy: 0.9053 - val_loss: 0.3358 - val_accuracy: 0.8825\n",
            "Epoch 9/40\n",
            "1500/1500 [==============================] - 4s 2ms/step - loss: 0.2479 - accuracy: 0.9085 - val_loss: 0.3483 - val_accuracy: 0.8834\n",
            "Epoch 10/40\n",
            "1500/1500 [==============================] - 4s 2ms/step - loss: 0.2388 - accuracy: 0.9103 - val_loss: 0.3310 - val_accuracy: 0.8841\n",
            "Epoch 11/40\n",
            "1500/1500 [==============================] - 4s 2ms/step - loss: 0.2278 - accuracy: 0.9136 - val_loss: 0.3249 - val_accuracy: 0.8886\n",
            "Epoch 12/40\n",
            "1500/1500 [==============================] - 4s 3ms/step - loss: 0.2213 - accuracy: 0.9168 - val_loss: 0.3416 - val_accuracy: 0.8840\n",
            "Epoch 13/40\n",
            "1500/1500 [==============================] - 4s 2ms/step - loss: 0.2149 - accuracy: 0.9191 - val_loss: 0.3211 - val_accuracy: 0.8888\n",
            "Epoch 14/40\n",
            "1500/1500 [==============================] - 4s 3ms/step - loss: 0.2067 - accuracy: 0.9223 - val_loss: 0.3349 - val_accuracy: 0.8876\n",
            "Epoch 15/40\n",
            "1500/1500 [==============================] - 4s 2ms/step - loss: 0.1997 - accuracy: 0.9253 - val_loss: 0.3345 - val_accuracy: 0.8880\n",
            "Epoch 16/40\n",
            "1500/1500 [==============================] - 4s 3ms/step - loss: 0.1943 - accuracy: 0.9275 - val_loss: 0.3352 - val_accuracy: 0.8907\n",
            "Epoch 17/40\n",
            "1500/1500 [==============================] - 4s 3ms/step - loss: 0.1894 - accuracy: 0.9298 - val_loss: 0.3262 - val_accuracy: 0.8917\n",
            "Epoch 18/40\n",
            "1500/1500 [==============================] - 4s 3ms/step - loss: 0.1818 - accuracy: 0.9319 - val_loss: 0.3405 - val_accuracy: 0.8904\n",
            "Epoch 19/40\n",
            "1500/1500 [==============================] - 4s 2ms/step - loss: 0.1791 - accuracy: 0.9327 - val_loss: 0.3271 - val_accuracy: 0.8947\n",
            "Epoch 20/40\n",
            "1500/1500 [==============================] - 4s 2ms/step - loss: 0.1720 - accuracy: 0.9350 - val_loss: 0.3648 - val_accuracy: 0.8882\n",
            "Epoch 21/40\n",
            "1500/1500 [==============================] - 4s 3ms/step - loss: 0.1683 - accuracy: 0.9363 - val_loss: 0.3391 - val_accuracy: 0.8913\n",
            "Epoch 22/40\n",
            "1500/1500 [==============================] - 4s 3ms/step - loss: 0.1634 - accuracy: 0.9387 - val_loss: 0.3670 - val_accuracy: 0.8891\n",
            "Epoch 23/40\n",
            "1500/1500 [==============================] - 4s 3ms/step - loss: 0.1595 - accuracy: 0.9406 - val_loss: 0.3741 - val_accuracy: 0.8868\n",
            "Epoch 24/40\n",
            "1500/1500 [==============================] - 4s 3ms/step - loss: 0.1552 - accuracy: 0.9423 - val_loss: 0.3614 - val_accuracy: 0.8910\n",
            "Epoch 25/40\n",
            "1500/1500 [==============================] - 4s 2ms/step - loss: 0.1499 - accuracy: 0.9428 - val_loss: 0.3814 - val_accuracy: 0.8922\n",
            "Epoch 26/40\n",
            "1500/1500 [==============================] - 4s 2ms/step - loss: 0.1476 - accuracy: 0.9444 - val_loss: 0.3811 - val_accuracy: 0.8856\n",
            "Epoch 27/40\n",
            "1500/1500 [==============================] - 4s 2ms/step - loss: 0.1485 - accuracy: 0.9454 - val_loss: 0.3784 - val_accuracy: 0.8916\n",
            "Epoch 28/40\n",
            "1500/1500 [==============================] - 4s 2ms/step - loss: 0.1390 - accuracy: 0.9472 - val_loss: 0.4039 - val_accuracy: 0.8873\n",
            "Epoch 29/40\n",
            "1500/1500 [==============================] - 4s 2ms/step - loss: 0.1391 - accuracy: 0.9470 - val_loss: 0.3677 - val_accuracy: 0.8948\n",
            "Epoch 30/40\n",
            "1500/1500 [==============================] - 4s 3ms/step - loss: 0.1335 - accuracy: 0.9501 - val_loss: 0.3942 - val_accuracy: 0.8892\n",
            "Epoch 31/40\n",
            "1500/1500 [==============================] - 4s 2ms/step - loss: 0.1330 - accuracy: 0.9506 - val_loss: 0.3930 - val_accuracy: 0.8918\n",
            "Epoch 32/40\n",
            "1500/1500 [==============================] - 4s 3ms/step - loss: 0.1275 - accuracy: 0.9531 - val_loss: 0.4392 - val_accuracy: 0.8851\n",
            "Epoch 33/40\n",
            "1500/1500 [==============================] - 4s 3ms/step - loss: 0.1275 - accuracy: 0.9517 - val_loss: 0.4235 - val_accuracy: 0.8889\n",
            "Epoch 34/40\n",
            "1500/1500 [==============================] - 4s 3ms/step - loss: 0.1236 - accuracy: 0.9534 - val_loss: 0.4011 - val_accuracy: 0.8921\n",
            "Epoch 35/40\n",
            "1500/1500 [==============================] - 4s 3ms/step - loss: 0.1242 - accuracy: 0.9543 - val_loss: 0.4158 - val_accuracy: 0.8933\n",
            "Epoch 36/40\n",
            "1500/1500 [==============================] - 4s 2ms/step - loss: 0.1168 - accuracy: 0.9570 - val_loss: 0.4276 - val_accuracy: 0.8903\n",
            "Epoch 37/40\n",
            "1500/1500 [==============================] - 4s 3ms/step - loss: 0.1157 - accuracy: 0.9566 - val_loss: 0.4311 - val_accuracy: 0.8886\n",
            "Epoch 38/40\n",
            "1500/1500 [==============================] - 4s 3ms/step - loss: 0.1138 - accuracy: 0.9564 - val_loss: 0.4310 - val_accuracy: 0.8874\n",
            "Epoch 39/40\n",
            "1500/1500 [==============================] - 4s 3ms/step - loss: 0.1126 - accuracy: 0.9577 - val_loss: 0.4439 - val_accuracy: 0.8920\n",
            "Epoch 40/40\n",
            "1500/1500 [==============================] - 4s 3ms/step - loss: 0.1094 - accuracy: 0.9583 - val_loss: 0.4454 - val_accuracy: 0.8932\n"
          ]
        },
        {
          "output_type": "execute_result",
          "data": {
            "text/plain": [
              "<keras.callbacks.History at 0x7f7fe710fbd0>"
            ]
          },
          "metadata": {},
          "execution_count": 27
        }
      ]
    },
    {
      "cell_type": "markdown",
      "metadata": {
        "id": "MqU5ZVAaag2v"
      },
      "source": [
        "To finish this tutorial, evaluate the hypermodel on the test data."
      ]
    },
    {
      "cell_type": "code",
      "metadata": {
        "id": "9E0BTp9Ealjb",
        "outputId": "a2173720-9dfa-4f41-c954-a01e8525aab7",
        "colab": {
          "base_uri": "https://localhost:8080/"
        }
      },
      "source": [
        "eval_result = hypermodel.evaluate(img_test, label_test)\n",
        "print(\"[test loss, test accuracy]:\", eval_result)"
      ],
      "execution_count": 28,
      "outputs": [
        {
          "output_type": "stream",
          "name": "stdout",
          "text": [
            "313/313 [==============================] - 1s 3ms/step - loss: 0.4843 - accuracy: 0.8865\n",
            "[test loss, test accuracy]: [0.4843381941318512, 0.8865000009536743]\n"
          ]
        }
      ]
    },
    {
      "cell_type": "markdown",
      "metadata": {
        "id": "EQRpPHZsz-eC"
      },
      "source": [
        "The `my_dir/intro_to_kt` directory contains detailed logs and checkpoints for every trial (model configuration) run during the hyperparameter search. If you re-run the hyperparameter search, the Keras Tuner uses the existing state from these logs to resume the search. To disable this behavior, pass an additional `overwrite=True` argument while instantiating the tuner."
      ]
    },
    {
      "cell_type": "markdown",
      "metadata": {
        "id": "sKwLOzKpFGAj"
      },
      "source": [
        "## Summary\n",
        "\n",
        "In this tutorial, you learned how to use the Keras Tuner to tune hyperparameters for a model. To learn more about the Keras Tuner, check out these additional resources:\n",
        "\n",
        "* [Keras Tuner on the TensorFlow blog](https://blog.tensorflow.org/2020/01/hyperparameter-tuning-with-keras-tuner.html)\n",
        "* [Keras Tuner website](https://keras-team.github.io/keras-tuner/)\n",
        "\n",
        "Also check out the [HParams Dashboard](https://www.tensorflow.org/tensorboard/hyperparameter_tuning_with_hparams) in TensorBoard to interactively tune your model hyperparameters."
      ]
    }
  ]
}